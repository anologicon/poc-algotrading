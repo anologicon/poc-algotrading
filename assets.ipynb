{
 "cells": [
  {
   "cell_type": "code",
   "execution_count": 1,
   "id": "maritime-precipitation",
   "metadata": {},
   "outputs": [],
   "source": [
    "import pandas as pd\n",
    "from matplotlib import pyplot as plt\n",
    "from matplotlib import warnings"
   ]
  },
  {
   "cell_type": "code",
   "execution_count": 14,
   "id": "confused-genesis",
   "metadata": {},
   "outputs": [],
   "source": [
    "dataAssets = pd.read_csv('stock_assets.csv');\n",
    "\n",
    "dataAssets['Vol.'] = dataAssets['Vol.'].str.replace('.','').astype(float)"
   ]
  },
  {
   "cell_type": "code",
   "execution_count": 22,
   "id": "earned-charity",
   "metadata": {},
   "outputs": [],
   "source": [
    "dfBestVolumes = dataAssets.sort_values('Vol.', ascending=False)[:100]"
   ]
  },
  {
   "cell_type": "code",
   "execution_count": 23,
   "id": "trying-sociology",
   "metadata": {},
   "outputs": [],
   "source": [
    "dfBestVolumes.to_csv('stock_assets_100.csv', index=False)"
   ]
  },
  {
   "cell_type": "code",
   "execution_count": 26,
   "id": "bizarre-chorus",
   "metadata": {},
   "outputs": [],
   "source": [
    "minhaCarteira = ['COGN3', 'LJQQ3', 'CIEL3', 'BRML3', 'GRND3', 'ECOR3', 'USIM5', 'SMLS3', 'EMBR3', 'AZEV4', 'POSI3']\n",
    "\n",
    "mcDf = dataAssets.loc[dataAssets['Symbol'].isin(minhaCarteira)]\n",
    "\n",
    "mcDf.to_csv('my_stock_assets.csv', index=False)"
   ]
  }
 ],
 "metadata": {
  "kernelspec": {
   "display_name": "Python 3",
   "language": "python",
   "name": "python3"
  },
  "language_info": {
   "codemirror_mode": {
    "name": "ipython",
    "version": 3
   },
   "file_extension": ".py",
   "mimetype": "text/x-python",
   "name": "python",
   "nbconvert_exporter": "python",
   "pygments_lexer": "ipython3",
   "version": "3.6.9"
  }
 },
 "nbformat": 4,
 "nbformat_minor": 5
}
